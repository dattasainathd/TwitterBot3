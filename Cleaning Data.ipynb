{
 "cells": [
  {
   "cell_type": "code",
   "execution_count": null,
   "metadata": {
    "collapsed": true
   },
   "outputs": [],
   "source": [
    "import nltk\n"
   ]
  },
  {
   "cell_type": "code",
   "execution_count": 65,
   "metadata": {
    "collapsed": false
   },
   "outputs": [],
   "source": [
    "from nltk.corpus import stopwords\n",
    "import re\n",
    "from nltk.tokenize import word_tokenize\n",
    "from nltk import PorterStemmer\n",
    "word_list = \"b\\\"\\xe2\\x99\\xab No-one drinks like Gaston / No-one shrinks like Gaston / No-one's got a gnarled muck in his jinx like Gaston \\xe2\\x99\\xab https://t.co/lD43cxtUHh\\\"\"\n",
    "word_list =' '.join(re.sub(\"(@[A-Za-z0-9]+)|([^0-9A-Za-z \\t])|(\\w+:\\/\\/\\S+)\",\" \",word_list).split())\n",
    "word_list = word_tokenize(word_list);\n",
    "s=stopwords.words('english')\n",
    "s.append('b')\n",
    "filtered_words = [word for word in word_list if word not in s ]\n",
    "t=PorterStemmer()\n",
    "filtered_words1=[]\n",
    "for i in filtered_words:\n",
    "    filtered_words1.append(t.stem(i))"
   ]
  },
  {
   "cell_type": "code",
   "execution_count": 67,
   "metadata": {
    "collapsed": false
   },
   "outputs": [
    {
     "name": "stdout",
     "output_type": "stream",
     "text": [
      "['No', 'one', 'drink', 'like', 'gaston', 'No', 'one', 'shrink', 'like', 'gaston', 'No', 'one', 'got', 'gnarl', 'muck', 'jinx', 'like', 'gaston']\n"
     ]
    }
   ],
   "source": [
    "print (filtered_words1)"
   ]
  },
  {
   "cell_type": "code",
   "execution_count": null,
   "metadata": {
    "collapsed": true
   },
   "outputs": [],
   "source": []
  }
 ],
 "metadata": {
  "kernelspec": {
   "display_name": "Python 3",
   "language": "python",
   "name": "python3"
  },
  "language_info": {
   "codemirror_mode": {
    "name": "ipython",
    "version": 3
   },
   "file_extension": ".py",
   "mimetype": "text/x-python",
   "name": "python",
   "nbconvert_exporter": "python",
   "pygments_lexer": "ipython3",
   "version": "3.6.0"
  }
 },
 "nbformat": 4,
 "nbformat_minor": 2
}
