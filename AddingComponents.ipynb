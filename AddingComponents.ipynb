{
 "cells": [
  {
   "cell_type": "code",
   "execution_count": 94,
   "metadata": {
    "collapsed": false
   },
   "outputs": [],
   "source": [
    "import csv\n",
    "import re\n",
    "f = open('training_data_2_csv_UTF.csv','r',encoding = \"ISO-8859-1\")\n",
    "reader = csv.reader(f)\n",
    "reputation_score=[]\n",
    "target=[]\n",
    "verified=[]\n",
    "lang=[]\n",
    "status_count=[]\n",
    "favourites_count=[]\n",
    "default_profile=[]\n",
    "default_image=[]\n",
    "extended_profile=[]\n",
    "status=[]\n",
    "name_len=[]\n",
    "id_=[]\n",
    "location=[]\n",
    "url=[]\n",
    "a=next(reader, None);\n",
    "for row in reader:\n",
    "    \n",
    "    if (row[7]=='0' and row[8]=='0'):\n",
    "        \n",
    "        reputation_score.append(0)\n",
    "    else:\n",
    "        reputation_score.append(float(row[7])/(float(row[7])+float(row[8])))\n",
    "    \n",
    "    if (row[11]=='FALSE'):\n",
    "        verified.append(0)\n",
    "    else:\n",
    "        verified.append(1)\n",
    "        \n",
    "    if (row[13]=='en' or row[13]=='\"en\"' ):\n",
    "        lang.append(0)\n",
    "    elif(row[13]=='pt' or row[13]=='\"pt\"'):\n",
    "        lang.append(1)\n",
    "    elif(row[13]=='zh-cn'or row[13]=='zh-CN' or row[13]=='\"zh-cn\"'):\n",
    "        lang.append(2)\n",
    "    elif(row[13]=='es'or row[13]=='\"en\"'):\n",
    "        lang.append(3)\n",
    "    elif(row[13]=='en-gb'):\n",
    "        lang.append(4)            \n",
    "    elif(row[13]=='it'or row[13]=='\"it\"'):\n",
    "        lang.append(5)  \n",
    "    elif(row[13]=='fr'or row[13]=='\"fr\"'):\n",
    "        lang.append(6)\n",
    "    elif(row[13]=='zh-tw'or row[13]=='zh-TW'):\n",
    "        lang.append(7)\n",
    "    elif(row[13]=='ko'or row[13]=='\"ko\"'):\n",
    "        lang.append(8)\n",
    "    elif(row[13]=='ja'or row[13]=='\"ja\"'):\n",
    "        lang.append(9)\n",
    "    elif(row[13]=='ta'or row[13]=='\"ta\"'):\n",
    "        lang.append(10)\n",
    "    elif(row[13]=='ru'or row[13]=='\"ru\"'):\n",
    "        lang.append(11)\n",
    "    else:\n",
    "        lang.append(12)\n",
    "\n",
    "    \n",
    "    if (row[15]=='FALSE' or row[16]==' '):\n",
    "        default_profile.append(0)\n",
    "    else:\n",
    "        default_profile.append(1)\n",
    "\n",
    "    if (row[16]=='FALSE' or row[16]==' '):\n",
    "        default_image.append(0)\n",
    "    else:\n",
    "        default_image.append(1)\n",
    "\n",
    "    if (row[17]=='FALSE' or row[17]==' '):\n",
    "        extended_profile.append(0)\n",
    "    else:\n",
    "        extended_profile.append(1)\n",
    "    if (row[19]=='0'):\n",
    "        target.append(0)\n",
    "    else:\n",
    "        target.append(1)\n",
    "     \n",
    "    status_count.append(int(row[12]))\n",
    "    favourites_count.append(int(row[10]) ) \n",
    "\n",
    "    if (row[17]=='null' or row[17]==' ' or row[17]=='None'):\n",
    "        status.append(0)\n",
    "    else:\n",
    "        status.append(1)\n",
    "    name_len.append(len(row[18]))\n",
    "    if (row[3]==' '):\n",
    "        location.append(0)\n",
    "    else:\n",
    "        location.append(1)\n",
    "    if (row[5]==' ' or row[5]=='None'):\n",
    "        url.append(0)\n",
    "    else:\n",
    "        url.append(1)\n",
    "    \n",
    "trainer=list( zip(reputation_score,lang,verified,status_count,default_profile,default_image,extended_profile,favourites_count,status,name_len))    \n",
    "target=target   \n",
    "    \n",
    "f.close();\n",
    "\n",
    "\n"
   ]
  },
  {
   "cell_type": "code",
   "execution_count": 123,
   "metadata": {
    "collapsed": false
   },
   "outputs": [],
   "source": [
    "import csv\n",
    "import re\n",
    "\n",
    "f = open('test_data_4_students.csv','r',encoding = \"ISO-8859-1\")\n",
    "reader = csv.reader(f)\n",
    "reputation_score=[]\n",
    "verified=[]\n",
    "lang=[]\n",
    "status_count=[]\n",
    "favourites_count=[]\n",
    "default_profile=[]\n",
    "default_image=[]\n",
    "extended_profile=[]\n",
    "status=[]\n",
    "name_len=[]\n",
    "location=[]\n",
    "id_=[]\n",
    "url=[]\n",
    "a=next(reader, None)\n",
    "\n",
    "count=1\n",
    "for row in reader:\n",
    "    if(row[0]==''):\n",
    "        break;\n",
    "    \n",
    "    \n",
    "    if (row[7]=='0' and row[8]=='0' or row[7]=='None' or row[8]=='None'):\n",
    "        \n",
    "        reputation_score.append(0)\n",
    "    else:\n",
    "        reputation_score.append(float(row[7])/(float(row[7])+float(row[8])))\n",
    "    \n",
    "    if (row[11]=='FALSE'):\n",
    "        verified.append(0)\n",
    "    else:\n",
    "        verified.append(1)\n",
    "        \n",
    "    if (row[13]=='en' or row[13]=='\"en\"' ):\n",
    "        lang.append(0)\n",
    "    elif(row[13]=='pt' or row[13]=='\"pt\"'):\n",
    "        lang.append(1)\n",
    "    elif(row[13]=='zh-cn'or row[13]=='zh-CN' or row[13]=='\"zh-cn\"'):\n",
    "        lang.append(2)\n",
    "    elif(row[13]=='es'or row[13]=='\"en\"'):\n",
    "        lang.append(3)\n",
    "    elif(row[13]=='en-gb'):\n",
    "        lang.append(4)            \n",
    "    elif(row[13]=='it'or row[13]=='\"it\"'):\n",
    "        lang.append(5)  \n",
    "    elif(row[13]=='fr'or row[13]=='\"fr\"'):\n",
    "        lang.append(6)\n",
    "    elif(row[13]=='zh-tw'or row[13]=='zh-TW'):\n",
    "        lang.append(7)\n",
    "    elif(row[13]=='ko'or row[13]=='\"ko\"'):\n",
    "        lang.append(8)\n",
    "    elif(row[13]=='ja'or row[13]=='\"ja\"'):\n",
    "        lang.append(9)\n",
    "    elif(row[13]=='ta'or row[13]=='\"ta\"'):\n",
    "        lang.append(10)\n",
    "    elif(row[13]=='ru'or row[13]=='\"ru\"'):\n",
    "        lang.append(11)\n",
    "    else:\n",
    "        lang.append(12)\n",
    "\n",
    "    \n",
    "    if (row[15]=='FALSE' or row[16]==' 'or row[17]=='None'):\n",
    "        default_profile.append(0)\n",
    "    else:\n",
    "        default_profile.append(1)\n",
    "\n",
    "    if (row[16]=='FALSE' or row[16]==' 'or row[17]=='None'):\n",
    "        default_image.append(0)\n",
    "    else:\n",
    "        default_image.append(1)\n",
    "\n",
    "    if (row[17]=='FALSE' or row[17]==' 'or row[17]=='None'):\n",
    "        extended_profile.append(0)\n",
    "    else:\n",
    "        extended_profile.append(1)\n",
    "    if ( row[10]==' 'or row[10]=='None'):\n",
    "        status_count.append(0)\n",
    "    else:\n",
    "        status_count.append(float(row[12]))    \n",
    "    if ( row[10]==' 'or row[10]=='None'):\n",
    "        favourites_count.append(0)\n",
    "    else:\n",
    "        favourites_count.append(int(row[10]) )    \n",
    "        \n",
    "\n",
    "    if (row[17]=='null' or row[17]==' ' or row[17]=='None'):\n",
    "        status.append(0)\n",
    "    else:\n",
    "        status.append(1)\n",
    "    \n",
    "    name_len.append(len(row[18]))\n",
    "    id_.append((row[0]))\n",
    "    if (row[3]==' '):\n",
    "        location.append(0)\n",
    "    else:\n",
    "        location.append(1)\n",
    "    if (row[5]==' ' or row[3]=='None'):\n",
    "        url.append(0)\n",
    "    else:\n",
    "        url.append(1)\n",
    "   \n",
    "    \n",
    "test=list( zip(reputation_score,lang,verified,status_count,default_profile,default_image,extended_profile,favourites_count,status,name_len))    \n",
    "    \n",
    "f.close();\n"
   ]
  },
  {
   "cell_type": "code",
   "execution_count": 119,
   "metadata": {
    "collapsed": false
   },
   "outputs": [
    {
     "name": "stdout",
     "output_type": "stream",
     "text": [
      "accuracy =  0.875580865645\n",
      "accuracy =  0.863416219777\n"
     ]
    }
   ],
   "source": [
    "from sklearn.ensemble import RandomForestClassifier,GradientBoostingClassifier\n",
    "from sklearn.linear_model import LinearRegression\n",
    "\n",
    "from sklearn.model_selection import cross_val_score\n",
    "from sklearn import svm\n",
    "import pandas as pd\n",
    "X=trainer\n",
    "Y=target\n",
    "\n",
    "clf = RandomForestClassifier(n_estimators=1000)\n",
    "scores1 = cross_val_score(clf, X, Y, cv=10, scoring='accuracy')\n",
    "print(\"accuracy = \",scores1.mean())\n",
    "\n",
    "clf=GradientBoostingClassifier(n_estimators=1000)\n",
    "scores1 = cross_val_score(clf, X, Y, cv=10, scoring='accuracy')\n",
    "\n",
    "print(\"accuracy = \",scores1.mean())"
   ]
  },
  {
   "cell_type": "code",
   "execution_count": 124,
   "metadata": {
    "collapsed": false
   },
   "outputs": [],
   "source": [
    "import numpy as np\n",
    "import pandas as pd\n",
    "a=clf.fit(X,Y)\n",
    "pred=clf.predict(test)\n",
    "df2 = pd.DataFrame({'Id': pd.Series(id_,dtype=np.int64),\n",
    "                   'Bot':pd.Series(pred)})"
   ]
  },
  {
   "cell_type": "code",
   "execution_count": 125,
   "metadata": {
    "collapsed": false
   },
   "outputs": [],
   "source": [
    "df2.to_csv('Test3.csv')"
   ]
  },
  {
   "cell_type": "code",
   "execution_count": 58,
   "metadata": {
    "collapsed": false
   },
   "outputs": [
    {
     "data": {
      "text/plain": [
       "Index(['id', 'id_str', 'screen_name', 'location', 'description', 'url',\n",
       "       'followers_count', 'friends_count', 'listedcount', 'created_at',\n",
       "       'favourites_count', 'verified', 'statuses_count', 'lang', 'status',\n",
       "       'default_profile', 'default_profile_image', 'has_extended_profile',\n",
       "       'name', 'bot'],\n",
       "      dtype='object')"
      ]
     },
     "execution_count": 58,
     "metadata": {},
     "output_type": "execute_result"
    }
   ],
   "source": [
    "df = pd.read_csv('training_data_2_csv_UTF.csv')\n",
    "df=pd.DataFrame(df)\n",
    "df.columns"
   ]
  },
  {
   "cell_type": "code",
   "execution_count": 69,
   "metadata": {
    "collapsed": false
   },
   "outputs": [],
   "source": [
    "\n",
    "t=[df.lang,df.verified,df.default_profile,df.default_profile_image,df.has_extended_profile]\n",
    "Y=df.bot"
   ]
  },
  {
   "cell_type": "code",
   "execution_count": 70,
   "metadata": {
    "collapsed": false
   },
   "outputs": [],
   "source": [
    "X=pd.concat(t,axis=1)\n"
   ]
  },
  {
   "cell_type": "code",
   "execution_count": 71,
   "metadata": {
    "collapsed": false
   },
   "outputs": [
    {
     "data": {
      "text/plain": [
       "2797"
      ]
     },
     "execution_count": 71,
     "metadata": {},
     "output_type": "execute_result"
    }
   ],
   "source": [
    "len(Y)"
   ]
  },
  {
   "cell_type": "code",
   "execution_count": 126,
   "metadata": {
    "collapsed": false
   },
   "outputs": [
    {
     "name": "stdout",
     "output_type": "stream",
     "text": [
      "accuracy =  0.83516474791\n"
     ]
    }
   ],
   "source": [
    "from sklearn import tree\n",
    "\n",
    "clf = tree.DecisionTreeClassifier()\n",
    "scores1 = cross_val_score(clf, X, Y, cv=10, scoring='accuracy')\n",
    "\n",
    "print(\"accuracy = \",scores1.mean())\n"
   ]
  },
  {
   "cell_type": "code",
   "execution_count": 92,
   "metadata": {
    "collapsed": false
   },
   "outputs": [
    {
     "data": {
      "text/plain": [
       "575"
      ]
     },
     "execution_count": 92,
     "metadata": {},
     "output_type": "execute_result"
    }
   ],
   "source": []
  },
  {
   "cell_type": "code",
   "execution_count": null,
   "metadata": {
    "collapsed": true
   },
   "outputs": [],
   "source": []
  }
 ],
 "metadata": {
  "kernelspec": {
   "display_name": "Python 3",
   "language": "python",
   "name": "python3"
  },
  "language_info": {
   "codemirror_mode": {
    "name": "ipython",
    "version": 3
   },
   "file_extension": ".py",
   "mimetype": "text/x-python",
   "name": "python",
   "nbconvert_exporter": "python",
   "pygments_lexer": "ipython3",
   "version": "3.6.0"
  }
 },
 "nbformat": 4,
 "nbformat_minor": 2
}
