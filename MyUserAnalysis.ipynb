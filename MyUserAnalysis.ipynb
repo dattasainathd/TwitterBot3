{
 "cells": [
  {
   "cell_type": "code",
   "execution_count": 155,
   "metadata": {
    "collapsed": true
   },
   "outputs": [],
   "source": [
    "import pandas as pd\n",
    "import numpy as np\n",
    "from sklearn.metrics import *\n",
    "path_to_insults = '/Users/dattasainathd/Downloads/'\n",
    "data2 = pd.read_csv(path_to_insults + 'user_proposal.csv',na_values='0', encoding = \"ISO-8859-1\", nrows = 50)\n",
    "data2['Value'] = 0\n",
    "data2['user'] = 1"
   ]
  },
  {
   "cell_type": "code",
   "execution_count": 156,
   "metadata": {
    "collapsed": false
   },
   "outputs": [
    {
     "name": "stdout",
     "output_type": "stream",
     "text": [
      "Did all the necessary changes for the data for manipulation\n"
     ]
    }
   ],
   "source": [
    "data2 = data2.drop('created_at', axis=1)\n",
    "data2.verified=data2.verified.astype(int)\n",
    "data2.default_profile=data2.default_profile.astype(int)\n",
    "data2.default_profile_image=data2.default_profile_image.astype(int)\n",
    "data2.followers_count=data2.followers_count.astype(int)\n",
    "data2 = data2.drop('status', axis=1)\n",
    "data2 = data2.drop('id', axis=1)\n",
    "data2 = data2.drop('id_str', axis=1)\n",
    "data2 = data2.drop('url', axis=1)\n",
    "#data2 = data2[data2.verified != 1]\n",
    "data2 = data2.drop('Has_extended_profile', axis=1)\n",
    "\n",
    "data2.location.fillna('', inplace=True)\n",
    "data2.description.fillna('', inplace=True)\n",
    "data2.followers_count.fillna(0, inplace=True)\n",
    "data2.friends_count.fillna(0, inplace=True)\n",
    "data2.listed_count.fillna(0, inplace=True)\n",
    "data2.statuses_count.fillna(0, inplace=True)\n",
    "data2.favourites_count.fillna(0, inplace=True)\n",
    "\n",
    "print(\"Did all the necessary changes for the data for manipulation\")"
   ]
  },
  {
   "cell_type": "code",
   "execution_count": 157,
   "metadata": {
    "collapsed": false,
    "scrolled": true
   },
   "outputs": [
    {
     "name": "stdout",
     "output_type": "stream",
     "text": [
      "trying to search for 'bot' in names, screen_names & description\n",
      "if existed, we shall change value to 2\n",
      "0\n"
     ]
    }
   ],
   "source": [
    "data_description = data2['description'].str.lower()\n",
    "data_name = data2['name'].str.lower()\n",
    "data_screen_name = data2['screen_name'].str.lower()\n",
    "bot = 'bot'\n",
    "count = 0\n",
    "serial = -1\n",
    "for x in data_screen_name:\n",
    "    serial = serial + 1\n",
    "    if bot in x:\n",
    "        data2.ix[serial, 'Value'] = 2\n",
    "        count += 1\n",
    "serial = -1\n",
    "\n",
    "for x in data_name:\n",
    "    serial = serial + 1\n",
    "    try:\n",
    "        if bot in x:\n",
    "            data2.ix[serial, 'Value'] = 2\n",
    "            count += 1\n",
    "    except:\n",
    "        pass\n",
    "\n",
    "serial = -1\n",
    "\n",
    "for x in data_description:\n",
    "    serial = serial + 1\n",
    "    try:\n",
    "        if bot in x:\n",
    "            data2.ix[serial, 'Value'] = 2\n",
    "            count += 1\n",
    "    except:\n",
    "        pass\n",
    "\n",
    "print(\"trying to search for 'bot' in names, screen_names & description\")\n",
    "print(\"if existed, we shall change value to 2\")\n",
    "print(count)\n"
   ]
  },
  {
   "cell_type": "code",
   "execution_count": 158,
   "metadata": {
    "collapsed": false
   },
   "outputs": [
    {
     "name": "stdout",
     "output_type": "stream",
     "text": [
      "trying to search for accounts with followers, friends or tweets in 0\n",
      "if there is some accounts like that we will consider them as 'starter' humans and assign value 2\n",
      "0\n"
     ]
    }
   ],
   "source": [
    "#trying to remove accounts with zero followers/zero friends/zero tweets\n",
    "#Bias obtained from given data\n",
    "serial = -1\n",
    "count = 0\n",
    "unnec = []\n",
    "for x in range(0, 575):\n",
    "    try:\n",
    "        serial = serial + 1\n",
    "        if(1):\n",
    "            if(data2.loc[serial, 'statuses_count']==0 or data2.loc[serial, 'followers_count']==0 or \n",
    "               data2.loc[serial, 'friends_count']==0 ):\n",
    "                data2.loc[serial, 'Value'] = 3\n",
    "                count+=1\n",
    "    except:\n",
    "        pass\n",
    "print(\"trying to search for accounts with followers, friends or tweets in 0\")\n",
    "print(\"if there is some accounts like that we will consider them as 'starter' humans and assign value 2\")\n",
    "print(count)"
   ]
  },
  {
   "cell_type": "code",
   "execution_count": 159,
   "metadata": {
    "collapsed": false
   },
   "outputs": [
    {
     "name": "stdout",
     "output_type": "stream",
     "text": [
      "trying to filter accounts usually used by comman man (not celebrities or verified users)\n",
      "comman users have low tweet/following or tweet/friends and assigned value 3\n",
      "50\n"
     ]
    }
   ],
   "source": [
    "#trying to filter accounts usually used by comman man (not celebrities or verified users)\n",
    "serial = -1\n",
    "count = 0\n",
    "unnec = []\n",
    "for x in range(0, 575):\n",
    "    try:\n",
    "        serial = serial + 1\n",
    "        if(data2.loc[serial, 'Value']==0):\n",
    "            if((data2.loc[serial, 'statuses_count']/data2.loc[serial, 'followers_count']<12 \n",
    "                or data2.loc[serial, 'statuses_count']/data2.loc[serial, 'friends_count']<12)):\n",
    "                data2.loc[serial, 'Value'] = 3\n",
    "                count+= 1\n",
    "    except:\n",
    "        pass\n",
    "print(\"trying to filter accounts usually used by comman man (not celebrities or verified users)\")\n",
    "print(\"comman users have low tweet/following or tweet/friends and assigned value 3\")\n",
    "print(count)"
   ]
  },
  {
   "cell_type": "code",
   "execution_count": 160,
   "metadata": {
    "collapsed": false
   },
   "outputs": [
    {
     "name": "stdout",
     "output_type": "stream",
     "text": [
      "trying to filter accounts which are verified all the verified user accounts are humans\n",
      "twitter user accounts which are verified are assigned to value 3\n",
      "26\n"
     ]
    }
   ],
   "source": [
    "#trying to filter accounts which are verified all the verified user accounts are humans\n",
    "#because twitter verifies users only \n",
    "serial = -1\n",
    "count = 0\n",
    "unnec = []\n",
    "for x in range(0, 575):\n",
    "    try:\n",
    "        serial = serial + 1\n",
    "        if(data2.loc[serial, 'verified']==1):\n",
    "            data2.loc[serial, 'Value'] = 3\n",
    "            count+= 1\n",
    "    except:\n",
    "        pass\n",
    "print(\"trying to filter accounts which are verified all the verified user accounts are humans\")\n",
    "print(\"twitter user accounts which are verified are assigned to value 3\")\n",
    "print(count)"
   ]
  },
  {
   "cell_type": "code",
   "execution_count": 161,
   "metadata": {
    "collapsed": false
   },
   "outputs": [
    {
     "name": "stdout",
     "output_type": "stream",
     "text": [
      "huge tweeting accounts\n",
      "huge rate tweet accounts are considered bots and retained values 2\n",
      "0\n"
     ]
    }
   ],
   "source": [
    "#there might be some clever bots who dont have any description but follow huge number of poeople or they are followed\n",
    "#by huge number.\n",
    "serial = -1\n",
    "count = 0\n",
    "unnec = []\n",
    "for x in range(0, 575):\n",
    "    try:\n",
    "        serial = serial + 1\n",
    "        if(data.loc[serial, 'Value']==1 or data.loc[serial, 'Value']==0):\n",
    "            if((data2.loc[serial, 'statuses_count']/data2.loc[serial, 'followers_count']>10 \n",
    "                or data2.loc[serial, 'statuses_count']/data2.loc[serial, 'friends_count']>10)):\n",
    "                data2.loc[serial, 'Value'] = 2\n",
    "                count+= 1\n",
    "    except:\n",
    "        pass\n",
    "print(\"huge tweeting accounts\")\n",
    "print(\"huge rate tweet accounts are considered bots and retained values 2\")\n",
    "print(count)"
   ]
  },
  {
   "cell_type": "code",
   "execution_count": 162,
   "metadata": {
    "collapsed": false,
    "scrolled": true
   },
   "outputs": [
    {
     "data": {
      "text/html": [
       "<div>\n",
       "<table border=\"1\" class=\"dataframe\">\n",
       "  <thead>\n",
       "    <tr style=\"text-align: right;\">\n",
       "      <th></th>\n",
       "      <th>screen_name</th>\n",
       "      <th>location</th>\n",
       "      <th>description</th>\n",
       "      <th>followers_count</th>\n",
       "      <th>friends_count</th>\n",
       "      <th>listed_count</th>\n",
       "      <th>favourites_count</th>\n",
       "      <th>verified</th>\n",
       "      <th>statuses_count</th>\n",
       "      <th>lang</th>\n",
       "      <th>default_profile</th>\n",
       "      <th>default_profile_image</th>\n",
       "      <th>name</th>\n",
       "      <th>bot</th>\n",
       "      <th>Value</th>\n",
       "      <th>user</th>\n",
       "    </tr>\n",
       "  </thead>\n",
       "  <tbody>\n",
       "    <tr>\n",
       "      <th>0</th>\n",
       "      <td>varmagrk</td>\n",
       "      <td>Hyderabad, Andhra Pradesh</td>\n",
       "      <td>b'AD in Tollywood #photography #Travelling #mu...</td>\n",
       "      <td>399</td>\n",
       "      <td>369</td>\n",
       "      <td>4.0</td>\n",
       "      <td>916.0</td>\n",
       "      <td>0</td>\n",
       "      <td>549</td>\n",
       "      <td>en</td>\n",
       "      <td>0</td>\n",
       "      <td>0</td>\n",
       "      <td>b'VarmaG'</td>\n",
       "      <td>NaN</td>\n",
       "      <td>3</td>\n",
       "      <td>1</td>\n",
       "    </tr>\n",
       "    <tr>\n",
       "      <th>1</th>\n",
       "      <td>urstrulyMahesh</td>\n",
       "      <td>Hyderabad, India</td>\n",
       "      <td>b'Actor in Indian Telugu Cinema'</td>\n",
       "      <td>3002619</td>\n",
       "      <td>1</td>\n",
       "      <td>5042.0</td>\n",
       "      <td>0.0</td>\n",
       "      <td>1</td>\n",
       "      <td>1080</td>\n",
       "      <td>en</td>\n",
       "      <td>0</td>\n",
       "      <td>0</td>\n",
       "      <td>b'Mahesh Babu'</td>\n",
       "      <td>NaN</td>\n",
       "      <td>3</td>\n",
       "      <td>1</td>\n",
       "    </tr>\n",
       "  </tbody>\n",
       "</table>\n",
       "</div>"
      ],
      "text/plain": [
       "      screen_name                   location  \\\n",
       "0        varmagrk  Hyderabad, Andhra Pradesh   \n",
       "1  urstrulyMahesh           Hyderabad, India   \n",
       "\n",
       "                                         description  followers_count  \\\n",
       "0  b'AD in Tollywood #photography #Travelling #mu...              399   \n",
       "1                   b'Actor in Indian Telugu Cinema'          3002619   \n",
       "\n",
       "   friends_count  listed_count  favourites_count  verified  statuses_count  \\\n",
       "0            369           4.0             916.0         0             549   \n",
       "1              1        5042.0               0.0         1            1080   \n",
       "\n",
       "  lang  default_profile  default_profile_image            name  bot  Value  \\\n",
       "0   en                0                      0       b'VarmaG'  NaN      3   \n",
       "1   en                0                      0  b'Mahesh Babu'  NaN      3   \n",
       "\n",
       "   user  \n",
       "0     1  \n",
       "1     1  "
      ]
     },
     "execution_count": 162,
     "metadata": {},
     "output_type": "execute_result"
    }
   ],
   "source": [
    "data2.head(2)"
   ]
  },
  {
   "cell_type": "code",
   "execution_count": 163,
   "metadata": {
    "collapsed": false
   },
   "outputs": [
    {
     "data": {
      "text/plain": [
       "50"
      ]
     },
     "execution_count": 163,
     "metadata": {},
     "output_type": "execute_result"
    }
   ],
   "source": [
    "serial = -1\n",
    "count = 0\n",
    "unnec = []\n",
    "for x in range(0, 575):\n",
    "    try:\n",
    "        serial = serial + 1\n",
    "        if(data2.loc[serial, 'Value']==2):\n",
    "            data2.loc[serial, 'Value'] = 0\n",
    "        else:\n",
    "            data2.loc[serial, 'Value'] = 1\n",
    "        count+= 1\n",
    "    except:\n",
    "        pass\n",
    "count"
   ]
  },
  {
   "cell_type": "code",
   "execution_count": 164,
   "metadata": {
    "collapsed": false
   },
   "outputs": [
    {
     "name": "stdout",
     "output_type": "stream",
     "text": [
      "Accuracy Score:  1.0\n",
      "Confusion Matrix:\n",
      "[[50]]\n"
     ]
    }
   ],
   "source": [
    "data_value = data2['Value']\n",
    "datafinal = data2['user']\n",
    "print(\"Accuracy Score: \", (accuracy_score(datafinal, data_value)))\n",
    "cnf_matrix = confusion_matrix(datafinal, data_value)\n",
    "print(\"Confusion Matrix:\")\n",
    "print(cnf_matrix)"
   ]
  },
  {
   "cell_type": "code",
   "execution_count": 165,
   "metadata": {
    "collapsed": true
   },
   "outputs": [],
   "source": [
    "TP = 0\n",
    "FP = 0\n",
    "TN = 0\n",
    "FN = 0\n",
    "\n",
    "for i in range(len(data_value)): \n",
    "    if datafinal[i]==data_value[i]==1:\n",
    "        TP += 1\n",
    "        #print(i)\n",
    "for i in range(len(data_value)): \n",
    "    if data_value[i]==1 and datafinal[i]!=data_value[i]:\n",
    "        FP += 1\n",
    "        #print(i)\n",
    "for i in range(len(data_value)): \n",
    "    if datafinal[i]==data_value[i]==0:\n",
    "        TN += 1\n",
    "        #print(i)\n",
    "for i in range(len(data_value)): \n",
    "    if data_value[i]==0 and datafinal[i]!=data_value[i]:\n",
    "        FN += 1\n",
    "        #print(i)"
   ]
  },
  {
   "cell_type": "code",
   "execution_count": 166,
   "metadata": {
    "collapsed": false
   },
   "outputs": [
    {
     "data": {
      "text/plain": [
       "50"
      ]
     },
     "execution_count": 166,
     "metadata": {},
     "output_type": "execute_result"
    }
   ],
   "source": [
    "TP"
   ]
  },
  {
   "cell_type": "code",
   "execution_count": null,
   "metadata": {
    "collapsed": true
   },
   "outputs": [],
   "source": []
  },
  {
   "cell_type": "code",
   "execution_count": null,
   "metadata": {
    "collapsed": true
   },
   "outputs": [],
   "source": []
  }
 ],
 "metadata": {
  "kernelspec": {
   "display_name": "Python 3",
   "language": "python",
   "name": "python3"
  },
  "language_info": {
   "codemirror_mode": {
    "name": "ipython",
    "version": 3
   },
   "file_extension": ".py",
   "mimetype": "text/x-python",
   "name": "python",
   "nbconvert_exporter": "python",
   "pygments_lexer": "ipython3",
   "version": "3.6.0"
  }
 },
 "nbformat": 4,
 "nbformat_minor": 2
}
