{
 "cells": [
  {
   "cell_type": "code",
   "execution_count": 2,
   "metadata": {
    "collapsed": false
   },
   "outputs": [
    {
     "name": "stdout",
     "output_type": "stream",
     "text": [
      "b'RT @Kimberly_OED: This is SO beautiful.. \\xe2\\x9d\\xa4\\xef\\xb8\\x8f\\xf0\\x9f\\x8e\\xb6 https://t.co/N7U6A2fZKN @WEARECHAMELEON  @Im_Just_Chloe'\n",
      "b'@Kimberly_OED \\xf0\\x9f\\x92\\x8b\\xf0\\x9f\\x92\\x8b\\xf0\\x9f\\x92\\x8b\\xf0\\x9f\\x92\\x8b\\xf0\\x9f\\x92\\x8b'\n",
      "b'RT @Kimberly_OED: @Im_Just_Chloe = \\xe2\\x9d\\xa4\\xef\\xb8\\x8f\\xf0\\x9f\\x8e\\xb6\\xf0\\x9f\\x8e\\xb6\\xf0\\x9f\\x8e\\xb6\\xf0\\x9f\\x8e\\xb6'\n"
     ]
    }
   ],
   "source": [
    "import nltk\n",
    "from nltk.corpus import stopwords\n",
    "import re\n",
    "from nltk.tokenize import word_tokenize\n",
    "from nltk import PorterStemmer\n",
    "import csv\n",
    "\n",
    "f = open('users_tweets.csv','r',  encoding = \"ISO-8859-1\")\n",
    "reader = csv.reader(f)\n",
    "all_tweets = []\n",
    "\n",
    "\n",
    "for row in reader:\n",
    "   all_tweets.append(row[2])\n",
    "\n",
    "\n",
    "\n",
    "length = len(all_tweets)\n",
    "\n",
    "cleaned_users_tweets = []\n",
    "\n",
    "for i in all_tweets:\n",
    "    #j = all_tweets.pop(i)\n",
    "    word_list = i\n",
    "    word_list =' '.join(re.sub(\"(@[A-Za-z0-9]+)|([^0-9A-Za-z \\t])|(\\w+:\\/\\/\\S+)\",\" \",word_list).split())\n",
    "    word_list = word_tokenize(word_list);\n",
    "    s=stopwords.words('english')\n",
    "    s.append('b')\n",
    "    filtered_words = [word for word in word_list if word not in s ]\n",
    "    t=PorterStemmer()\n",
    "    filtered_words1=[]\n",
    "    try:\n",
    "        for k in filtered_words:\n",
    "            filtered_words1.append(t.stem(k)+\" \")\n",
    "    except:\n",
    "        print(i)\n",
    "        pass\n",
    "    filtered_words1 = ''.join(filtered_words1)\n",
    "    cleaned_users_tweets.append(filtered_words1)\n",
    "    \n",
    "f = open('cleaned_users_tweets.csv', 'w')\n",
    "writer = csv.writer(f, dialect='excel', delimiter=\"\\n\")\n",
    "\n",
    "\n",
    "writer.writerows([cleaned_users_tweets])\n"
   ]
  },
  {
   "cell_type": "code",
   "execution_count": null,
   "metadata": {
    "collapsed": true
   },
   "outputs": [],
   "source": []
  }
 ],
 "metadata": {
  "kernelspec": {
   "display_name": "Python 3",
   "language": "python",
   "name": "python3"
  },
  "language_info": {
   "codemirror_mode": {
    "name": "ipython",
    "version": 3
   },
   "file_extension": ".py",
   "mimetype": "text/x-python",
   "name": "python",
   "nbconvert_exporter": "python",
   "pygments_lexer": "ipython3",
   "version": "3.6.0"
  }
 },
 "nbformat": 4,
 "nbformat_minor": 2
}
