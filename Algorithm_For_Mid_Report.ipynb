{
 "cells": [
  {
   "cell_type": "code",
   "execution_count": 11,
   "metadata": {
    "collapsed": true
   },
   "outputs": [],
   "source": [
    "import csv\n",
    "\n",
    "import re\n",
    "f = open('cleaned_users_tweets.csv','r')\n",
    "r1 = csv.reader(f)\n",
    "alltweets = []\n",
    "for row in r1:\n",
    "    if(len(row)!=0):\n",
    "        t=row[0]\n",
    "        alltweets.append(re.sub(r'x[0-9a-fA-F]+|RT',r'', t))"
   ]
  },
  {
   "cell_type": "code",
   "execution_count": 12,
   "metadata": {
    "collapsed": true
   },
   "outputs": [],
   "source": [
    "f1 = open('cleaned_bots_tweets.csv','r')\n",
    "r2 = csv.reader(f1)\n",
    "alltweetsb = []\n",
    "for row in r2:\n",
    "    if(len(row)!=0):\n",
    "        t=row[0]\n",
    "        alltweetsb.append(re.sub(r'x[0-9a-fA-F]+|RT',r'', t))"
   ]
  },
  {
   "cell_type": "code",
   "execution_count": 13,
   "metadata": {
    "collapsed": true
   },
   "outputs": [],
   "source": [
    "botdes=[]\n",
    "for i in range(0,len(alltweets)):\n",
    "    botdes.append(0)\n",
    "for i in range(0,len(alltweetsb)):\n",
    "    botdes.append(1)"
   ]
  },
  {
   "cell_type": "code",
   "execution_count": 14,
   "metadata": {
    "collapsed": true
   },
   "outputs": [],
   "source": [
    "\n",
    "data_tweets= alltweets+alltweetsb"
   ]
  },
  {
   "cell_type": "code",
   "execution_count": 15,
   "metadata": {
    "collapsed": false
   },
   "outputs": [],
   "source": [
    "c=zip(data_tweets,botdes)\n",
    "c=list(c)"
   ]
  },
  {
   "cell_type": "code",
   "execution_count": 16,
   "metadata": {
    "collapsed": false
   },
   "outputs": [],
   "source": [
    "data = data_tweets\n",
    "target = botdes"
   ]
  },
  {
   "cell_type": "code",
   "execution_count": 17,
   "metadata": {
    "collapsed": false
   },
   "outputs": [
    {
     "name": "stdout",
     "output_type": "stream",
     "text": [
      "MULTINOMIALNB\n",
      "accuracy =  0.712897655601\n",
      "precision =  0.834462431015\n",
      "recall =  0.643549818788\n",
      "f1 =  0.723023984155\n",
      "AUC =  0.813904623703\n",
      "BERNOULLINB\n",
      "accuracy =  0.722752481633\n",
      "precision =  0.815924440531\n",
      "recall =  0.687885442116\n",
      "f1 =  0.743607622916\n",
      "AUC =  0.814566560657\n",
      "Logistic Regression\n",
      "accuracy =  0.72955596422\n",
      "precision =  0.781407287582\n",
      "recall =  0.75467495532\n",
      "f1 =  0.766615293953\n",
      "AUC =  0.805591719476\n"
     ]
    }
   ],
   "source": [
    "#!/usr/bin/env python -W ignore::DeprecationWarning\n",
    "from sklearn.linear_model import LogisticRegression\n",
    "from sklearn.feature_extraction.text import CountVectorizer\n",
    "from sklearn.cross_validation import cross_val_score\n",
    "import pandas as pd\n",
    "import numpy as np\n",
    "from sklearn.naive_bayes import MultinomialNB\n",
    "from sklearn.naive_bayes import BernoulliNB\n",
    "from sklearn.feature_extraction.text import CountVectorizer\n",
    "from sklearn.model_selection import cross_val_score\n",
    "from sklearn.linear_model import LogisticRegression\n",
    "\n",
    "\n",
    "count_vectorizer = CountVectorizer()\n",
    "X = count_vectorizer.fit_transform(data)\n",
    "from sklearn.feature_extraction.text import TfidfTransformer\n",
    "tf_transformer = TfidfTransformer(use_idf=False).fit(X)\n",
    "X_train_tf = tf_transformer.transform(X)\n",
    "Y =target\n",
    "\n",
    "\n",
    "classifier1 = MultinomialNB()\n",
    "classifier2 = BernoulliNB()\n",
    "classifier3 = LogisticRegression()\n",
    "\n",
    "print(\"MULTINOMIALNB\")\n",
    "scores1 = cross_val_score(classifier1, X, Y, cv=10, scoring='accuracy')\n",
    "print(\"accuracy = \",scores1.mean())\n",
    "scores1 = cross_val_score(classifier1, X, Y, cv=10, scoring='precision')\n",
    "print(\"precision = \",scores1.mean())\n",
    "scores1 = cross_val_score(classifier1, X, Y, cv=10, scoring='recall')\n",
    "print(\"recall = \",scores1.mean())\n",
    "scores1 = cross_val_score(classifier1, X, Y, cv=10, scoring='f1')\n",
    "print(\"f1 = \",scores1.mean())\n",
    "scores1 = cross_val_score(classifier1, X, Y, cv=10, scoring='roc_auc')\n",
    "print(\"AUC = \",scores1.mean())\n",
    "print(\"BERNOULLINB\")\n",
    "scores2 = cross_val_score(classifier2, X, Y, cv=10, scoring='accuracy')\n",
    "print(\"accuracy = \",scores2.mean())\n",
    "scores2 = cross_val_score(classifier2, X, Y, cv=10, scoring='precision')\n",
    "print(\"precision = \",scores2.mean())\n",
    "scores2 = cross_val_score(classifier2, X, Y, cv=10, scoring='recall')\n",
    "print(\"recall = \",scores2.mean())\n",
    "scores2 = cross_val_score(classifier2, X, Y, cv=10, scoring='f1')\n",
    "print(\"f1 = \",scores2.mean())\n",
    "scores2 = cross_val_score(classifier2, X, Y, cv=10, scoring='roc_auc')\n",
    "print(\"AUC = \",scores2.mean())\n",
    "print(\"Logistic Regression\")\n",
    "scores3 = cross_val_score(classifier3, X, Y, cv=10, scoring='accuracy')\n",
    "print(\"accuracy = \",scores3.mean())\n",
    "scores3 = cross_val_score(classifier3, X, Y, cv=10, scoring='precision')\n",
    "print(\"precision = \",scores3.mean())\n",
    "scores3 = cross_val_score(classifier3, X, Y, cv=10, scoring='recall')\n",
    "print(\"recall = \",scores3.mean())\n",
    "scores3 = cross_val_score(classifier3, X, Y, cv=10, scoring='f1')\n",
    "print(\"f1 = \",scores3.mean())\n",
    "scores3 = cross_val_score(classifier3, X, Y, cv=10, scoring='roc_auc')\n",
    "print(\"AUC = \",scores3.mean())"
   ]
  },
  {
   "cell_type": "code",
   "execution_count": 18,
   "metadata": {
    "collapsed": true
   },
   "outputs": [],
   "source": [
    "import numpy as np\n",
    "import matplotlib.pyplot as plt\n",
    "from sklearn.metrics import roc_curve, auc"
   ]
  },
  {
   "cell_type": "code",
   "execution_count": 19,
   "metadata": {
    "collapsed": false
   },
   "outputs": [
    {
     "data": {
      "image/png": "[encoded data removed]",
      "text/plain": [
       "<matplotlib.figure.Figure at 0x10704a8d0>"
      ]
     },
     "metadata": {},
     "output_type": "display_data"
    }
   ],
   "source": [
    "from sklearn.model_selection import cross_val_predict\n",
    "\n",
    "lw=2\n",
    "\n",
    "probas = cross_val_predict(classifier1, X, Y, cv=10);\n",
    "# Compute ROC curve and area the curve for MNB\n",
    "fpr, tpr, thresholds = roc_curve(Y, probas)\n",
    "roc_auc = auc(fpr, tpr)\n",
    "plt.plot(fpr, tpr, lw=lw, color=\"red\",\n",
    "             label='Multinomial(area = %0.2f)' % ( scores1.mean()))\n",
    "probas = cross_val_predict(classifier2, X, Y, cv=10);\n",
    "# Compute ROC curve and area the curve for BNB\n",
    "fpr, tpr, thresholds = roc_curve(Y, probas)\n",
    "roc_auc = auc(fpr, tpr)\n",
    "plt.plot(fpr, tpr, lw=lw, color=\"blue\",\n",
    "             label='Binomial(area = %0.2f)' % (scores2.mean()))\n",
    "probas = cross_val_predict(classifier3, X, Y, cv=10);\n",
    "roc_auc = auc(fpr, tpr)\n",
    "\n",
    "# Compute ROC curve and area the curve for MNB\n",
    "fpr, tpr, thresholds = roc_curve(Y, probas)\n",
    "\n",
    "plt.plot(fpr, tpr, lw=lw, color=\"orange\",\n",
    "             label='Logistic Regression(area = %0.2f)' % ( scores3.mean()))\n",
    " \n",
    "plt.plot([0, 1], [0, 1], linestyle='--', lw=lw, color='black',\n",
    "         label='Best')\n",
    "\n",
    "\n",
    "plt.xlim([-0.05, 1.05])\n",
    "plt.ylim([-0.05, 1.05])\n",
    "plt.xlabel('False Positive Rate')\n",
    "plt.ylabel('True Positive Rate')\n",
    "plt.title('Receiver operating characteristic ')\n",
    "plt.legend(loc=\"lower right\")\n",
    "plt.show()"
   ]
  },
  {
   "cell_type": "code",
   "execution_count": 20,
   "metadata": {
    "collapsed": false
   },
   "outputs": [
    {
     "name": "stdout",
     "output_type": "stream",
     "text": [
      "MSE =  0.287102344399\n",
      "MSE =  0.277247518367\n",
      "MSE =  0.27044403578\n"
     ]
    }
   ],
   "source": [
    "scores1 = cross_val_score(classifier1, X, Y, cv=10, scoring='neg_mean_squared_error')\n",
    "print(\"MSE = \",-1*scores1.mean())\n",
    "scores2 = cross_val_score(classifier2, X, Y, cv=10, scoring='neg_mean_squared_error')\n",
    "print(\"MSE = \",-1*scores2.mean())\n",
    "scores3 = cross_val_score(classifier3, X, Y, cv=10, scoring='neg_mean_squared_error')\n",
    "print(\"MSE = \",-1*scores3.mean())"
   ]
  },
  {
   "cell_type": "code",
   "execution_count": null,
   "metadata": {
    "collapsed": true
   },
   "outputs": [],
   "source": []
  }
 ],
 "metadata": {
  "kernelspec": {
   "display_name": "Python 3",
   "language": "python",
   "name": "python3"
  },
  "language_info": {
   "codemirror_mode": {
    "name": "ipython",
    "version": 3
   },
   "file_extension": ".py",
   "mimetype": "text/x-python",
   "name": "python",
   "nbconvert_exporter": "python",
   "pygments_lexer": "ipython3",
   "version": "3.6.0"
  }
 },
 "nbformat": 4,
 "nbformat_minor": 2
}
