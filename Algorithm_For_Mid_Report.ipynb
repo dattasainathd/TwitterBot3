{
 "cells": [
  {
   "cell_type": "code",
   "execution_count": 4,
   "metadata": {
    "collapsed": true
   },
   "outputs": [],
   "source": [
    "import csv\n",
    "\n",
    "import re\n",
    "f = open('cleaned_users_tweets.csv','r')\n",
    "r1 = csv.reader(f)\n",
    "alltweets = []\n",
    "for row in r1:\n",
    "    if(len(row)!=0):\n",
    "        t=row[0]\n",
    "        alltweets.append(re.sub(r'x[0-9a-fA-F]+|RT',r'', t))"
   ]
  },
  {
   "cell_type": "code",
   "execution_count": 5,
   "metadata": {
    "collapsed": true
   },
   "outputs": [],
   "source": [
    "f1 = open('cleaned_bots_tweets.csv','r')\n",
    "r2 = csv.reader(f1)\n",
    "alltweetsb = []\n",
    "for row in r2:\n",
    "    if(len(row)!=0):\n",
    "        t=row[0]\n",
    "        alltweetsb.append(re.sub(r'x[0-9a-fA-F]+|RT',r'', t))"
   ]
  },
  {
   "cell_type": "code",
   "execution_count": 6,
   "metadata": {
    "collapsed": true
   },
   "outputs": [],
   "source": [
    "botdes=[]\n",
    "for i in range(0,len(alltweets)):\n",
    "    botdes.append(0)\n",
    "for i in range(0,len(alltweetsb)):\n",
    "    botdes.append(1)"
   ]
  },
  {
   "cell_type": "code",
   "execution_count": 7,
   "metadata": {
    "collapsed": true
   },
   "outputs": [],
   "source": [
    "\n",
    "data_tweets= alltweets+alltweetsb"
   ]
  },
  {
   "cell_type": "code",
   "execution_count": 8,
   "metadata": {
    "collapsed": false
   },
   "outputs": [],
   "source": [
    "c=zip(data_tweets,botdes)\n",
    "c=list(c)"
   ]
  },
  {
   "cell_type": "code",
   "execution_count": 15,
   "metadata": {
    "collapsed": false
   },
   "outputs": [],
   "source": [
    "data = data_tweets\n",
    "target = botdes"
   ]
  },
  {
   "cell_type": "code",
   "execution_count": 17,
   "metadata": {
    "collapsed": false
   },
   "outputs": [
    {
     "name": "stdout",
     "output_type": "stream",
     "text": [
      "MULTINOMIALNB\n",
      "accuracy =  0.712897655601\n",
      "precision =  0.834462431015\n",
      "recall =  0.643549818788\n",
      "f1 =  0.723023984155\n",
      "AUC =  0.813904623703\n",
      "BERNOULLINB\n",
      "accuracy =  0.722752481633\n",
      "precision =  0.815924440531\n",
      "recall =  0.687885442116\n",
      "f1 =  0.743607622916\n",
      "AUC =  0.814566560657\n"
     ]
    }
   ],
   "source": [
    "from sklearn.linear_model import LogisticRegression\n",
    "from sklearn.feature_extraction.text import CountVectorizer\n",
    "from sklearn.cross_validation import cross_val_score\n",
    "import pandas as pd\n",
    "import numpy as np\n",
    "from sklearn.naive_bayes import MultinomialNB\n",
    "from sklearn.naive_bayes import BernoulliNB\n",
    "from sklearn.feature_extraction.text import CountVectorizer\n",
    "from sklearn.model_selection import cross_val_score\n",
    "\n",
    "count_vectorizer = CountVectorizer()\n",
    "X = count_vectorizer.fit_transform(data)\n",
    "Y =target\n",
    "classifier1 = MultinomialNB()\n",
    "classifier2 = BernoulliNB()\n",
    "print(\"MULTINOMIALNB\")\n",
    "scores1 = cross_val_score(classifier1, X, Y, cv=10, scoring='accuracy')\n",
    "print(\"accuracy = \",scores1.mean())\n",
    "scores1 = cross_val_score(classifier1, X, Y, cv=10, scoring='precision')\n",
    "print(\"precision = \",scores1.mean())\n",
    "scores1 = cross_val_score(classifier1, X, Y, cv=10, scoring='recall')\n",
    "print(\"recall = \",scores1.mean())\n",
    "scores1 = cross_val_score(classifier1, X, Y, cv=10, scoring='f1')\n",
    "print(\"f1 = \",scores1.mean())\n",
    "scores1 = cross_val_score(classifier1, X, Y, cv=10, scoring='roc_auc')\n",
    "print(\"AUC = \",scores1.mean())\n",
    "print(\"BERNOULLINB\")\n",
    "scores2 = cross_val_score(classifier2, X, Y, cv=10, scoring='accuracy')\n",
    "print(\"accuracy = \",scores2.mean())\n",
    "scores2 = cross_val_score(classifier2, X, Y, cv=10, scoring='precision')\n",
    "print(\"precision = \",scores2.mean())\n",
    "scores2 = cross_val_score(classifier2, X, Y, cv=10, scoring='recall')\n",
    "print(\"recall = \",scores2.mean())\n",
    "scores2 = cross_val_score(classifier2, X, Y, cv=10, scoring='f1')\n",
    "print(\"f1 = \",scores2.mean())\n",
    "scores2 = cross_val_score(classifier2, X, Y, cv=10, scoring='roc_auc')\n",
    "print(\"AUC = \",scores2.mean())"
   ]
  }
 ],
 "metadata": {
  "kernelspec": {
   "display_name": "Python 3",
   "language": "python",
   "name": "python3"
  },
  "language_info": {
   "codemirror_mode": {
    "name": "ipython",
    "version": 3
   },
   "file_extension": ".py",
   "mimetype": "text/x-python",
   "name": "python",
   "nbconvert_exporter": "python",
   "pygments_lexer": "ipython3",
   "version": "3.6.0"
  }
 },
 "nbformat": 4,
 "nbformat_minor": 2
}
