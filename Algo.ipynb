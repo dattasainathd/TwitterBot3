{
 "cells": [
  {
   "cell_type": "code",
   "execution_count": 1,
   "metadata": {
    "collapsed": false
   },
   "outputs": [],
   "source": [
    "import csv\n",
    "\n",
    "import re\n",
    "f = open('cleaned_users_tweets.csv','r')\n",
    "r1 = csv.reader(f)\n",
    "alltweets = []\n",
    "for row in r1:\n",
    "    if(len(row)!=0):\n",
    "        t=row[0]\n",
    "        alltweets.append(re.sub(r'x[0-9a-fA-F]+|RT',r'', t))\n",
    "    \n"
   ]
  },
  {
   "cell_type": "code",
   "execution_count": 2,
   "metadata": {
    "collapsed": true
   },
   "outputs": [],
   "source": [
    "f1 = open('cleaned_bots_tweets.csv','r')\n",
    "r2 = csv.reader(f1)\n",
    "alltweetsb = []\n",
    "for row in r2:\n",
    "    if(len(row)!=0):\n",
    "        t=row[0]\n",
    "        alltweetsb.append(re.sub(r'x[0-9a-fA-F]+|RT',r'', t))\n",
    "    \n"
   ]
  },
  {
   "cell_type": "code",
   "execution_count": 18,
   "metadata": {
    "collapsed": false
   },
   "outputs": [],
   "source": [
    "botdes=[]\n",
    "for i in range(0,len(alltweets)):\n",
    "    botdes.append(0)\n",
    "for i in range(0,len(alltweetsb)):\n",
    "    botdes.append(1)"
   ]
  },
  {
   "cell_type": "code",
   "execution_count": 19,
   "metadata": {
    "collapsed": true
   },
   "outputs": [],
   "source": [
    "data_tweets= alltweets+alltweetsb"
   ]
  },
  {
   "cell_type": "code",
   "execution_count": 42,
   "metadata": {
    "collapsed": false
   },
   "outputs": [
    {
     "ename": "KeyboardInterrupt",
     "evalue": "",
     "output_type": "error",
     "traceback": [
      "\u001b[0;31m---------------------------------------------------------------------------\u001b[0m",
      "\u001b[0;31mKeyboardInterrupt\u001b[0m                         Traceback (most recent call last)",
      "\u001b[0;32m<ipython-input-42-cdce8eba0907>\u001b[0m in \u001b[0;36m<module>\u001b[0;34m()\u001b[0m\n\u001b[1;32m      7\u001b[0m \u001b[1;32mfor\u001b[0m \u001b[0ml\u001b[0m \u001b[1;32min\u001b[0m \u001b[0mc\u001b[0m\u001b[1;33m:\u001b[0m\u001b[1;33m\u001b[0m\u001b[0m\n\u001b[1;32m      8\u001b[0m     \u001b[1;32mif\u001b[0m \u001b[0ml\u001b[0m \u001b[1;32mnot\u001b[0m \u001b[1;32min\u001b[0m \u001b[0mdd\u001b[0m\u001b[1;33m:\u001b[0m\u001b[1;33m\u001b[0m\u001b[0m\n\u001b[0;32m----> 9\u001b[0;31m         \u001b[0mcross_v\u001b[0m\u001b[1;33m.\u001b[0m\u001b[0mappend\u001b[0m\u001b[1;33m(\u001b[0m\u001b[0ml\u001b[0m\u001b[1;33m)\u001b[0m\u001b[1;33m\u001b[0m\u001b[0m\n\u001b[0m",
      "\u001b[0;31mKeyboardInterrupt\u001b[0m: "
     ]
    }
   ],
   "source": [
    "import random\n",
    "\n",
    "c=zip(data_tweets,botdes)\n",
    "c=list(c)\n",
    "dd=random.sample(c,19202)\n",
    "cross_v=[]\n",
    "for l in c:\n",
    "    if l not in dd:\n",
    "        cross_v.append(l)\n"
   ]
  },
  {
   "cell_type": "code",
   "execution_count": null,
   "metadata": {
    "collapsed": true
   },
   "outputs": [],
   "source": []
  },
  {
   "cell_type": "code",
   "execution_count": null,
   "metadata": {
    "collapsed": true
   },
   "outputs": [],
   "source": [
    "tt=[]\n",
    "yy=[]\n",
    "for i in range(0,19202):\n",
    "    tt.append(c[i][0]);\n",
    "for i in range(0,19202):\n",
    "    yy.append(c[i][1]);\n",
    "cvc=[]\n",
    "for i in range(0,len(cross_v)):\n",
    "    cvc.append(cross_v[i][0])\n",
    "pp=[]\n",
    "for i in range(0,len(cross_v)):\n",
    "    pp.append(cross_v[i][1])\n"
   ]
  },
  {
   "cell_type": "code",
   "execution_count": null,
   "metadata": {
    "collapsed": true
   },
   "outputs": [],
   "source": [
    "from sklearn.feature_extraction.text import CountVectorizer\n",
    "count_vect = CountVectorizer()\n",
    "X_train_counts = count_vect.fit_transform(tt)"
   ]
  },
  {
   "cell_type": "code",
   "execution_count": null,
   "metadata": {
    "collapsed": false
   },
   "outputs": [],
   "source": [
    "from sklearn.feature_extraction.text import TfidfTransformer\n",
    "tfidf_transformer = TfidfTransformer()\n",
    "X_train_tfidf = tfidf_transformer.fit_transform(X_train_counts)\n",
    "print(X_train_tfidf.shape)"
   ]
  },
  {
   "cell_type": "code",
   "execution_count": null,
   "metadata": {
    "collapsed": false
   },
   "outputs": [],
   "source": [
    "from sklearn.naive_bayes import MultinomialNB\n",
    "import numpy as np\n",
    "with np.errstate(divide='ignore'):\n",
    "    clf = MultinomialNB().fit(X_train_tfidf, yy)\n",
    "    X_new_counts = count_vect.transform(cvc)\n",
    "    X_new_tfidf = tfidf_transformer.transform(X_new_counts)\n",
    "\n",
    "    predicted= clf.predict(X_new_tfidf);\n"
   ]
  },
  {
   "cell_type": "code",
   "execution_count": null,
   "metadata": {
    "collapsed": false
   },
   "outputs": [],
   "source": [
    "from sklearn import metrics\n",
    "with np.errstate(divide='ignore'):\n",
    "    fpr, tpr, thresholds = metrics.roc_curve(pp, predicted)\n",
    "    print(\"ACCURACY     PRECISION   RECALL     f1 Score   AUC\")\n",
    "    print(metrics.accuracy_score(pp,predicted),metrics.precision_score(pp,predicted),metrics.recall_score(pp, predicted),\n",
    "metrics.f1_score(pp, predicted),metrics.auc(fpr,tpr));\n"
   ]
  },
  {
   "cell_type": "code",
   "execution_count": null,
   "metadata": {
    "collapsed": false
   },
   "outputs": [],
   "source": [
    "for i in predicted:\n",
    "    if i==1:\n",
    "        print(i)"
   ]
  },
  {
   "cell_type": "code",
   "execution_count": null,
   "metadata": {
    "collapsed": true
   },
   "outputs": [],
   "source": []
  }
 ],
 "metadata": {
  "kernelspec": {
   "display_name": "Python 3",
   "language": "python",
   "name": "python3"
  },
  "language_info": {
   "codemirror_mode": {
    "name": "ipython",
    "version": 3
   },
   "file_extension": ".py",
   "mimetype": "text/x-python",
   "name": "python",
   "nbconvert_exporter": "python",
   "pygments_lexer": "ipython3",
   "version": "3.6.0"
  }
 },
 "nbformat": 4,
 "nbformat_minor": 2
}
