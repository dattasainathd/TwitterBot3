{
 "cells": [
  {
   "cell_type": "code",
   "execution_count": 1,
   "metadata": {
    "collapsed": false
   },
   "outputs": [
    {
     "ename": "FileNotFoundError",
     "evalue": "[Errno 2] No such file or directory: 'users.csv'",
     "output_type": "error",
     "traceback": [
      "\u001b[0;31m---------------------------------------------------------------------------\u001b[0m",
      "\u001b[0;31mFileNotFoundError\u001b[0m                         Traceback (most recent call last)",
      "\u001b[0;32m<ipython-input-1-24a15571dcef>\u001b[0m in \u001b[0;36m<module>\u001b[0;34m()\u001b[0m\n\u001b[1;32m     14\u001b[0m \u001b[1;33m\u001b[0m\u001b[0m\n\u001b[1;32m     15\u001b[0m \u001b[0muser_screen_names\u001b[0m \u001b[1;33m=\u001b[0m\u001b[1;33m[\u001b[0m\u001b[1;33m]\u001b[0m\u001b[1;33m\u001b[0m\u001b[0m\n\u001b[0;32m---> 16\u001b[0;31m \u001b[0mf\u001b[0m \u001b[1;33m=\u001b[0m \u001b[0mopen\u001b[0m\u001b[1;33m(\u001b[0m\u001b[1;34m'users.csv'\u001b[0m\u001b[1;33m,\u001b[0m\u001b[1;34m'r'\u001b[0m\u001b[1;33m)\u001b[0m\u001b[1;33m\u001b[0m\u001b[0m\n\u001b[0m\u001b[1;32m     17\u001b[0m \u001b[0mreader\u001b[0m \u001b[1;33m=\u001b[0m \u001b[0mcsv\u001b[0m\u001b[1;33m.\u001b[0m\u001b[0mreader\u001b[0m\u001b[1;33m(\u001b[0m\u001b[0mf\u001b[0m\u001b[1;33m)\u001b[0m\u001b[1;33m\u001b[0m\u001b[0m\n\u001b[1;32m     18\u001b[0m \u001b[1;33m\u001b[0m\u001b[0m\n",
      "\u001b[0;31mFileNotFoundError\u001b[0m: [Errno 2] No such file or directory: 'users.csv'"
     ]
    }
   ],
   "source": [
    "import tweepy\n",
    "import csv\n",
    "import time\n",
    "\n",
    "consumer_key = \"BYADovvYQhDt8YWSGw57HqcZO\"\n",
    "consumer_secret = \"CbCfzNaGf7BuH5nTksUZUo7VWlnhJEkmOiKFqJ3uqm5cDjfigN\"\n",
    "access_key = \"551635264-RD3WtUx9Wh0I4vAnF0zKsfvHPfAFOAfBvCrpYKt6\"\n",
    "access_secret = \"qiZuc8Bf9HzbpdZ391dwiAz4cXEMwISnRP3suNo3f7uW9\"\n",
    "\n",
    "auth = tweepy.OAuthHandler(consumer_key, consumer_secret)\n",
    "auth.set_access_token(access_key, access_secret)\n",
    "api = tweepy.API(auth)\n",
    "\n",
    "\n",
    "user_screen_names =[]\n",
    "f = open('users.csv','r')\n",
    "reader = csv.reader(f)\n",
    "\n",
    "for row in reader:\n",
    "   user_screen_names.append(row[0])\n",
    "\n",
    "f = open('users_tweets.csv', 'w')\n",
    "writer = csv.writer(f)\n",
    "writer.writerow([\"id\",\"created_at\",\"text\"])\n",
    "\n",
    "all_user_tweets = []\n",
    "new_user_tweets = []\n",
    "\n",
    "for i in user_screen_names:\n",
    "    print(i)\n",
    "    try:\n",
    "        new_user_tweets = api.user_timeline(screen_name = i,count=200) \n",
    "        \n",
    "    except tweepy.error.TweepError:\n",
    "         pass\n",
    "    all_user_tweets.extend(new_user_tweets)\n",
    "        \n",
    "out_user_tweets = [[tweet.id_str, tweet.created_at, tweet.text.encode(\"utf-8\")] for tweet in all_user_tweets]\n",
    "writer.writerows(out_user_tweets)\n"
   ]
  },
  {
   "cell_type": "code",
   "execution_count": null,
   "metadata": {
    "collapsed": true
   },
   "outputs": [],
   "source": []
  }
 ],
 "metadata": {
  "kernelspec": {
   "display_name": "Python 3",
   "language": "python",
   "name": "python3"
  },
  "language_info": {
   "codemirror_mode": {
    "name": "ipython",
    "version": 3
   },
   "file_extension": ".py",
   "mimetype": "text/x-python",
   "name": "python",
   "nbconvert_exporter": "python",
   "pygments_lexer": "ipython3",
   "version": "3.6.0"
  }
 },
 "nbformat": 4,
 "nbformat_minor": 2
}
