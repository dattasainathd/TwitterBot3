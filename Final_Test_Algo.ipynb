{
 "cells": [
  {
   "cell_type": "code",
   "execution_count": 61,
   "metadata": {
    "collapsed": false
   },
   "outputs": [],
   "source": [
    "import pandas as pd\n",
    "import numpy as np\n",
    "import csv\n",
    "from sklearn.metrics import *\n",
    "\n",
    "path_to_insults = '/Users/dattasainathd/Downloads/'\n",
    "data = pd.read_csv(path_to_insults + 'test_data_4_students.csv',na_values='Nan',nrows=575)\n",
    "data['Value'] = 0\n",
    "data_description = data['description'].str.lower()\n",
    "data_name = data['name'].str.lower()\n",
    "data_screen_name = data['screen_name'].str.lower()\n",
    "bot = 'bot'"
   ]
  },
  {
   "cell_type": "code",
   "execution_count": 62,
   "metadata": {
    "collapsed": false
   },
   "outputs": [
    {
     "name": "stdout",
     "output_type": "stream",
     "text": [
      "trying to search for 'bot' in names, screen_names & description\n",
      "if existed, we shall change value to 1\n",
      "303\n"
     ]
    }
   ],
   "source": [
    "serial = -1\n",
    "\n",
    "for x in data_screen_name:\n",
    "    serial = serial + 1\n",
    "    if bot in x:\n",
    "        data.ix[serial, 'Value'] = 1\n",
    "        \n",
    "serial = -1\n",
    "\n",
    "for x in data_name:\n",
    "    serial = serial + 1\n",
    "    try:\n",
    "        if bot in x:\n",
    "            data.ix[serial, 'Value'] = 1\n",
    "    except:\n",
    "        pass\n",
    "\n",
    "serial = -1\n",
    "\n",
    "for x in data_description:\n",
    "    serial = serial + 1\n",
    "    try:\n",
    "        if bot in x:\n",
    "            data.ix[serial, 'Value'] = 1\n",
    "    except:\n",
    "        pass\n",
    "\n",
    "print(\"trying to search for 'bot' in names, screen_names & description\")\n",
    "print(\"if existed, we shall change value to 1\")\n",
    "print(count)"
   ]
  },
  {
   "cell_type": "code",
   "execution_count": 63,
   "metadata": {
    "collapsed": false
   },
   "outputs": [
    {
     "name": "stdout",
     "output_type": "stream",
     "text": [
      "Did all the necessary changes for the data for manipulation\n"
     ]
    }
   ],
   "source": [
    "data = data.drop('id', axis=1)\n",
    "data = data.drop('id_str', axis=1)\n",
    "data = data.drop('created_at', axis=1)\n",
    "data = data.drop('status', axis=1)\n",
    "data = data.drop('has_extended_profile', axis=1)\n",
    "data = data.drop('bot', axis=1)\n",
    "data = data.drop('url', axis=1)\n",
    "data = data.replace('None',int(0))\n",
    "#data['verified']=data['verified'].astype(int)\n",
    "data = data.replace('None',int(0))\n",
    "data['followers_count']=data['followers_count'].astype(int)\n",
    "data['friends_count']=data['friends_count'].astype(int)\n",
    "data['listed_count']=data['listed_count'].astype(int)\n",
    "data['favorites_count']=data['favorites_count'].astype(int)\n",
    "data['statuses_count']=data['statuses_count'].astype(int)\n",
    "\n",
    "\n",
    "serial = -1\n",
    "count = 0\n",
    "unnec = []\n",
    "for x in range(0, 575):\n",
    "    try:\n",
    "        serial = serial + 1\n",
    "        if(data.loc[serial, 'verified']=='TRUE'):\n",
    "            data.loc[serial, 'verified'] = 1\n",
    "        else:\n",
    "            data.loc[serial, 'verified'] = 0\n",
    "        count+=1\n",
    "    except:\n",
    "        pass\n",
    "\n",
    "serial = -1\n",
    "count = 0\n",
    "unnec = []\n",
    "for x in range(0, 575):\n",
    "    try:\n",
    "        serial = serial + 1\n",
    "        if(data.loc[serial, 'default_profile']=='TRUE'):\n",
    "            data.loc[serial, 'default_profile'] = 1\n",
    "        else:\n",
    "            data.loc[serial, 'default_profile'] = 0\n",
    "        count+=1\n",
    "    except:\n",
    "        pass\n",
    "serial = -1\n",
    "count = 0\n",
    "unnec = []\n",
    "for x in range(0, 575):\n",
    "    try:\n",
    "        serial = serial + 1\n",
    "        if(data.loc[serial, 'default_profile_image']=='TRUE'):\n",
    "            data.loc[serial, 'default_profile_image'] = 1\n",
    "        else:\n",
    "            data.loc[serial, 'default_profile_image'] = 0\n",
    "        count+=1\n",
    "    except:\n",
    "        pass\n",
    "print(\"Did all the necessary changes for the data for manipulation\")"
   ]
  },
  {
   "cell_type": "code",
   "execution_count": 64,
   "metadata": {
    "collapsed": false
   },
   "outputs": [
    {
     "name": "stdout",
     "output_type": "stream",
     "text": [
      "trying to search for accounts with followers, friends or tweets in 0\n",
      "if there is some accounts like that we will consider them as 'starter' humans and assign value 2\n",
      "2\n"
     ]
    }
   ],
   "source": [
    "#trying to remove accounts with zero followers/zero friends/zero tweets\n",
    "#Bias obtained from given data\n",
    "serial = -1\n",
    "count = 0\n",
    "unnec = []\n",
    "for x in range(0, 575):\n",
    "    try:\n",
    "        serial = serial + 1\n",
    "        if(data.loc[serial, 'Value']==0):\n",
    "            if(data.loc[serial, 'statuses_count']==0 or data.loc[serial, 'followers_count']==0 or \n",
    "               data.loc[serial, 'friends_count']==0 ):\n",
    "                data.loc[serial, 'Value'] = 2\n",
    "                count+=1\n",
    "    except:\n",
    "        pass\n",
    "print(\"trying to search for accounts with followers, friends or tweets in 0\")\n",
    "print(\"if there is some accounts like that we will consider them as 'starter' humans and assign value 2\")\n",
    "print(count)"
   ]
  },
  {
   "cell_type": "code",
   "execution_count": 65,
   "metadata": {
    "collapsed": false
   },
   "outputs": [
    {
     "name": "stdout",
     "output_type": "stream",
     "text": [
      "trying to filter accounts usually used by comman man (not celebrities or verified users)\n",
      "comman users have low tweet/following or tweet/friends and assigned value 2\n",
      "296\n"
     ]
    }
   ],
   "source": [
    "#trying to filter accounts usually used by comman man (not celebrities or verified users)\n",
    "serial = -1\n",
    "count = 0\n",
    "unnec = []\n",
    "for x in range(0, 575):\n",
    "    try:\n",
    "        serial = serial + 1\n",
    "        if(data.loc[serial, 'Value']==0):\n",
    "            if((data.loc[serial, 'statuses_count']/data.loc[serial, 'followers_count']<12 \n",
    "                or data.loc[serial, 'statuses_count']/data.loc[serial, 'friends_count']<12)):\n",
    "                data.loc[serial, 'Value'] = 2\n",
    "                count+= 1\n",
    "    except:\n",
    "        pass\n",
    "\n",
    "print(\"trying to filter accounts usually used by comman man (not celebrities or verified users)\")\n",
    "print(\"comman users have low tweet/following or tweet/friends and assigned value 2\")\n",
    "print(count)"
   ]
  },
  {
   "cell_type": "code",
   "execution_count": 66,
   "metadata": {
    "collapsed": false
   },
   "outputs": [
    {
     "name": "stdout",
     "output_type": "stream",
     "text": [
      "trying to filter accounts which are verified all the verified user accounts are humans\n",
      "twitter user accounts which are verified are assigned to value 2\n",
      "203\n"
     ]
    }
   ],
   "source": [
    "#trying to filter accounts which are verified all the verified user accounts are humans\n",
    "#because twitter verifies users only \n",
    "serial = -1\n",
    "count = 0\n",
    "unnec = []\n",
    "for x in range(0, 575):\n",
    "    try:\n",
    "        serial = serial + 1\n",
    "        if(data.loc[serial, 'verified']==1):\n",
    "            data.loc[serial, 'Value'] = 2\n",
    "            count+= 1\n",
    "    except:\n",
    "        pass\n",
    "print(\"trying to filter accounts which are verified all the verified user accounts are humans\")\n",
    "print(\"twitter user accounts which are verified are assigned to value 2\")\n",
    "print(count)"
   ]
  },
  {
   "cell_type": "code",
   "execution_count": 67,
   "metadata": {
    "collapsed": false
   },
   "outputs": [
    {
     "name": "stdout",
     "output_type": "stream",
     "text": [
      "huge tweeting accounts\n",
      "huge rate tweet accounts are considered bots and retained values 1\n",
      "13\n"
     ]
    }
   ],
   "source": [
    "#there might be some clever bots who dont have any description but follow huge number of poeople or they are followed\n",
    "#by huge number.\n",
    "serial = -1\n",
    "count = 0\n",
    "unnec = []\n",
    "for x in range(0, 575):\n",
    "    try:\n",
    "        serial = serial + 1\n",
    "        if(data.loc[serial, 'Value']==0):\n",
    "            if((data.loc[serial, 'statuses_count']/data.loc[serial, 'followers_count']>10 \n",
    "                or data.loc[serial, 'statuses_count']/data.loc[serial, 'friends_count']>10)):\n",
    "                data.loc[serial, 'Value'] = 1\n",
    "                count+= 1\n",
    "    except:\n",
    "        pass\n",
    "print(\"huge tweeting accounts\")\n",
    "print(\"huge rate tweet accounts are considered bots and retained values 1\")\n",
    "print(count)"
   ]
  },
  {
   "cell_type": "code",
   "execution_count": 68,
   "metadata": {
    "collapsed": false
   },
   "outputs": [
    {
     "data": {
      "text/plain": [
       "303"
      ]
     },
     "execution_count": 68,
     "metadata": {},
     "output_type": "execute_result"
    }
   ],
   "source": [
    "serial = -1\n",
    "count = 0\n",
    "unnec = []\n",
    "for x in range(0, 575):\n",
    "    try:\n",
    "        serial = serial + 1\n",
    "        if(data.loc[serial, 'Value']!=1):\n",
    "            data.loc[serial, 'Value'] = 0\n",
    "            count+= 1\n",
    "    except:\n",
    "        pass\n",
    "count"
   ]
  },
  {
   "cell_type": "code",
   "execution_count": 69,
   "metadata": {
    "collapsed": false
   },
   "outputs": [],
   "source": [
    "data_value = data['Value']\n",
    "data_value.to_csv('result2.csv')"
   ]
  },
  {
   "cell_type": "code",
   "execution_count": null,
   "metadata": {
    "collapsed": true
   },
   "outputs": [],
   "source": []
  }
 ],
 "metadata": {
  "kernelspec": {
   "display_name": "Python 3",
   "language": "python",
   "name": "python3"
  },
  "language_info": {
   "codemirror_mode": {
    "name": "ipython",
    "version": 3
   },
   "file_extension": ".py",
   "mimetype": "text/x-python",
   "name": "python",
   "nbconvert_exporter": "python",
   "pygments_lexer": "ipython3",
   "version": "3.6.0"
  }
 },
 "nbformat": 4,
 "nbformat_minor": 2
}
